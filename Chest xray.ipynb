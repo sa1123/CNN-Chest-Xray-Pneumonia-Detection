{
 "cells": [
  {
   "cell_type": "code",
   "execution_count": null,
   "metadata": {
    "colab": {
     "base_uri": "https://localhost:8080/",
     "height": 34
    },
    "colab_type": "code",
    "executionInfo": {
     "elapsed": 1696,
     "status": "ok",
     "timestamp": 1570439069651,
     "user": {
      "displayName": "Saurabh Thakur",
      "photoUrl": "",
      "userId": "08941237863167904509"
     },
     "user_tz": -330
    },
    "id": "EayASWtC79wR",
    "outputId": "d842d5e4-fec3-4ff1-a562-6334674ea0a6"
   },
   "outputs": [],
   "source": [
    "from google.colab import drive\n",
    "drive.mount('/content/drive')"
   ]
  },
  {
   "cell_type": "code",
   "execution_count": null,
   "metadata": {
    "colab": {
     "base_uri": "https://localhost:8080/",
     "height": 34
    },
    "colab_type": "code",
    "executionInfo": {
     "elapsed": 3579,
     "status": "ok",
     "timestamp": 1570439071621,
     "user": {
      "displayName": "Saurabh Thakur",
      "photoUrl": "",
      "userId": "08941237863167904509"
     },
     "user_tz": -330
    },
    "id": "QRZhq9F_8Coq",
    "outputId": "b0e58bce-eb79-4c64-e178-d80c89f7f48c"
   },
   "outputs": [],
   "source": [
    "import keras\n",
    "import pandas as pd\n",
    "import numpy as np\n",
    "import cv2\n",
    "import os\n",
    "from random import shuffle\n",
    "from tqdm import tqdm\n",
    "import scipy\n",
    "import skimage\n",
    "from skimage.transform import resize"
   ]
  },
  {
   "cell_type": "code",
   "execution_count": null,
   "metadata": {
    "colab": {},
    "colab_type": "code",
    "id": "A_2WmBfH8C8m"
   },
   "outputs": [],
   "source": [
    "train_dir = \"/content/drive/My Drive/Colab Notebooks/chest_xray/train/\"\n",
    "test_dir = \"/content/drive/My Drive/Colab Notebooks/chest_xray/test/\"\n",
    "val_dir = \"/content/drive/My Drive/Colab Notebooks/chest_xray/val/\""
   ]
  },
  {
   "cell_type": "code",
   "execution_count": null,
   "metadata": {
    "colab": {},
    "colab_type": "code",
    "id": "7PUlb7c_8DRn"
   },
   "outputs": [],
   "source": [
    "from keras import models\n",
    "from keras import layers"
   ]
  },
  {
   "cell_type": "code",
   "execution_count": null,
   "metadata": {
    "colab": {
     "base_uri": "https://localhost:8080/",
     "height": 241
    },
    "colab_type": "code",
    "executionInfo": {
     "elapsed": 4828,
     "status": "ok",
     "timestamp": 1570439072963,
     "user": {
      "displayName": "Saurabh Thakur",
      "photoUrl": "",
      "userId": "08941237863167904509"
     },
     "user_tz": -330
    },
    "id": "4Jrkoixi8DpT",
    "outputId": "62307e90-66fd-4474-b0c4-e68ccc3727eb"
   },
   "outputs": [],
   "source": [
    "from keras.applications import VGG16\n",
    "conv_base = VGG16(weights='imagenet',\n",
    "                 include_top = False,\n",
    "                 input_shape = (224, 224, 3))"
   ]
  },
  {
   "cell_type": "code",
   "execution_count": null,
   "metadata": {
    "colab": {},
    "colab_type": "code",
    "id": "KmuscR5h8EAI"
   },
   "outputs": [],
   "source": [
    "import tensorflow as tf\n",
    "from tensorflow.keras.models import Sequential\n",
    "from tensorflow.keras.layers import Dense, Conv2D, Flatten, Dropout, MaxPooling2D\n",
    "from tensorflow.keras.preprocessing.image import ImageDataGenerator"
   ]
  },
  {
   "cell_type": "code",
   "execution_count": null,
   "metadata": {
    "colab": {
     "base_uri": "https://localhost:8080/",
     "height": 88
    },
    "colab_type": "code",
    "executionInfo": {
     "elapsed": 4797,
     "status": "ok",
     "timestamp": 1570439072968,
     "user": {
      "displayName": "Saurabh Thakur",
      "photoUrl": "",
      "userId": "08941237863167904509"
     },
     "user_tz": -330
    },
    "id": "GN7Xp1ir8YdJ",
    "outputId": "9245dbf5-11ef-4069-a0d9-58bf28616688"
   },
   "outputs": [],
   "source": [
    "model = models.Sequential()\n",
    "model.add(conv_base)\n",
    "model.add(layers.Flatten())\n",
    "model.add(layers.Dense(256, activation = 'relu'))\n",
    "model.add(layers.Dropout(rate=1- 0.7))\n",
    "model.add(layers.Dense(64, activation = 'relu'))\n",
    "model.add(layers.Dropout(rate = 1-0.7))\n",
    "model.add(layers.Dense(1, activation = 'sigmoid'))"
   ]
  },
  {
   "cell_type": "markdown",
   "metadata": {
    "colab_type": "text",
    "id": "j1iLSDs68aVr"
   },
   "source": []
  },
  {
   "cell_type": "code",
   "execution_count": null,
   "metadata": {
    "colab": {
     "base_uri": "https://localhost:8080/",
     "height": 391
    },
    "colab_type": "code",
    "executionInfo": {
     "elapsed": 4784,
     "status": "ok",
     "timestamp": 1570439072970,
     "user": {
      "displayName": "Saurabh Thakur",
      "photoUrl": "",
      "userId": "08941237863167904509"
     },
     "user_tz": -330
    },
    "id": "KPGm1RqC8ypw",
    "outputId": "53e10b30-8551-4ed7-c94e-ef9e297bde4d"
   },
   "outputs": [],
   "source": [
    "model.summary()"
   ]
  },
  {
   "cell_type": "code",
   "execution_count": null,
   "metadata": {
    "colab": {},
    "colab_type": "code",
    "id": "R9-eDinAJ6fk"
   },
   "outputs": [],
   "source": [
    "conv_base.trainable = False"
   ]
  },
  {
   "cell_type": "code",
   "execution_count": null,
   "metadata": {
    "colab": {
     "base_uri": "https://localhost:8080/",
     "height": 391
    },
    "colab_type": "code",
    "executionInfo": {
     "elapsed": 4741,
     "status": "ok",
     "timestamp": 1570439072975,
     "user": {
      "displayName": "Saurabh Thakur",
      "photoUrl": "",
      "userId": "08941237863167904509"
     },
     "user_tz": -330
    },
    "id": "HX0AYjte85Lt",
    "outputId": "fdb95c38-60de-4fc7-f9ad-aafd2a589d96"
   },
   "outputs": [],
   "source": [
    "model.summary()"
   ]
  },
  {
   "cell_type": "code",
   "execution_count": null,
   "metadata": {
    "colab": {
     "base_uri": "https://localhost:8080/",
     "height": 122
    },
    "colab_type": "code",
    "executionInfo": {
     "elapsed": 4726,
     "status": "ok",
     "timestamp": 1570439072977,
     "user": {
      "displayName": "Saurabh Thakur",
      "photoUrl": "",
      "userId": "08941237863167904509"
     },
     "user_tz": -330
    },
    "id": "MtzspNkYKIXI",
    "outputId": "cfd6cfa8-0ebe-47a6-fa93-e10ae402da0c"
   },
   "outputs": [],
   "source": [
    "from keras import optimizers\n",
    "model.compile(optimizer='adam',\n",
    "              loss='binary_crossentropy',\n",
    "              metrics=['accuracy'])"
   ]
  },
  {
   "cell_type": "code",
   "execution_count": null,
   "metadata": {
    "colab": {},
    "colab_type": "code",
    "id": "fnbzBKBYKJI7"
   },
   "outputs": [],
   "source": [
    "batch_size = 50\n",
    "IMG_SHAPE = 224"
   ]
  },
  {
   "cell_type": "code",
   "execution_count": null,
   "metadata": {
    "colab": {
     "base_uri": "https://localhost:8080/",
     "height": 34
    },
    "colab_type": "code",
    "executionInfo": {
     "elapsed": 4695,
     "status": "ok",
     "timestamp": 1570439072980,
     "user": {
      "displayName": "Saurabh Thakur",
      "photoUrl": "",
      "userId": "08941237863167904509"
     },
     "user_tz": -330
    },
    "id": "PxAVpljYKOGo",
    "outputId": "3660ab92-56a4-4ca2-8948-05da9178666a"
   },
   "outputs": [],
   "source": [
    "image_gen = ImageDataGenerator(rescale = 1./255, \n",
    "                               horizontal_flip = True,\n",
    "                              rotation_range=5,\n",
    "                              width_shift_range= 0.10,\n",
    "                              height_shift_range= 0.05,\n",
    "                              zoom_range = 0.15,\n",
    "                              shear_range = 0.1,\n",
    "                              vertical_flip = False,\n",
    "                              fill_mode = 'reflect')\n",
    "\n",
    "train_data_gen = image_gen.flow_from_directory(batch_size = batch_size,\n",
    "                                               directory= train_dir,\n",
    "                                               shuffle=True,\n",
    "                                                target_size=(IMG_SHAPE,IMG_SHAPE),\n",
    "                                                class_mode='binary'\n",
    "                                                              )"
   ]
  },
  {
   "cell_type": "code",
   "execution_count": null,
   "metadata": {
    "colab": {
     "base_uri": "https://localhost:8080/",
     "height": 34
    },
    "colab_type": "code",
    "executionInfo": {
     "elapsed": 5021,
     "status": "ok",
     "timestamp": 1570439073332,
     "user": {
      "displayName": "Saurabh Thakur",
      "photoUrl": "",
      "userId": "08941237863167904509"
     },
     "user_tz": -330
    },
    "id": "THbXW1A5KVmt",
    "outputId": "abd9d4b2-5a2e-41fb-e476-afa2206ab57c"
   },
   "outputs": [],
   "source": [
    "image_val_gen = ImageDataGenerator(rescale=1./255)\n",
    "\n",
    "val_data_gen = image_gen.flow_from_directory(batch_size = batch_size,\n",
    "                                                directory = val_dir,\n",
    "                                                target_size=(IMG_SHAPE,IMG_SHAPE),\n",
    "                                                class_mode='binary'\n",
    "                                                              )"
   ]
  },
  {
   "cell_type": "code",
   "execution_count": null,
   "metadata": {
    "colab": {
     "base_uri": "https://localhost:8080/",
     "height": 527
    },
    "colab_type": "code",
    "executionInfo": {
     "elapsed": 1187203,
     "status": "ok",
     "timestamp": 1570441252014,
     "user": {
      "displayName": "Saurabh Thakur",
      "photoUrl": "",
      "userId": "08941237863167904509"
     },
     "user_tz": -330
    },
    "id": "Uy4gN8uhKb41",
    "outputId": "2a7d85a1-09c3-438b-fe2f-fd0130f5d0db"
   },
   "outputs": [],
   "source": [
    "history = model.fit_generator(\n",
    "                               train_data_gen,\n",
    "                                steps_per_epoch= 5\n",
    "                                epochs = 15,\n",
    "                                 validation_data = val_data_gen,\n",
    "                                 validation_steps =40)"
   ]
  },
  {
   "cell_type": "code",
   "execution_count": null,
   "metadata": {
    "colab": {
     "base_uri": "https://localhost:8080/",
     "height": 499
    },
    "colab_type": "code",
    "executionInfo": {
     "elapsed": 1920,
     "status": "ok",
     "timestamp": 1570441300332,
     "user": {
      "displayName": "Saurabh Thakur",
      "photoUrl": "",
      "userId": "08941237863167904509"
     },
     "user_tz": -330
    },
    "id": "hrozhFLmWESU",
    "outputId": "c652478c-1c28-41c7-fdf4-7afab395f739"
   },
   "outputs": [],
   "source": [
    "import matplotlib.pyplot as plt\n",
    "\n",
    "epochs =15\n",
    "acc = history.history['acc']\n",
    "loss = history.history['loss']\n",
    "\n",
    "val_acc = history.history['val_acc']\n",
    "val_loss = history.history['val_loss']\n",
    "\n",
    "epochs_range = range(epochs)\n",
    "\n",
    "plt.figure(figsize=(8, 8))\n",
    "plt.subplot(1, 2, 1)\n",
    "plt.plot(epochs_range, acc, label='Training Accuracy')\n",
    "plt.plot(epochs_range, val_acc, label='Validation Accuracy')\n",
    "plt.legend(loc='lower right')\n",
    "plt.title('Training and Validation Accuracy')\n",
    "\n",
    "plt.subplot(1, 2, 2)\n",
    "plt.plot(epochs_range, loss, label='Training Loss')\n",
    "plt.plot(epochs_range, val_loss, label='Validation Loss')\n",
    "plt.legend(loc='upper right')\n",
    "plt.title('Training and Validation Loss')\n",
    "plt.show()"
   ]
  },
  {
   "cell_type": "code",
   "execution_count": null,
   "metadata": {
    "colab": {
     "base_uri": "https://localhost:8080/",
     "height": 34
    },
    "colab_type": "code",
    "executionInfo": {
     "elapsed": 1021,
     "status": "ok",
     "timestamp": 1570441332881,
     "user": {
      "displayName": "Saurabh Thakur",
      "photoUrl": "",
      "userId": "08941237863167904509"
     },
     "user_tz": -330
    },
    "id": "Kik9OzTzXYRU",
    "outputId": "a19a9a31-7c97-4883-c69c-21d6bd5614e3"
   },
   "outputs": [],
   "source": [
    "image_test_gen = ImageDataGenerator(rescale= 1./255)\n",
    "\n",
    "test_data_gen = image_val_gen.flow_from_directory(batch_size = batch_size,\n",
    "                                                directory = test_dir,\n",
    "                                                target_size=(IMG_SHAPE,IMG_SHAPE),\n",
    "                                                class_mode='binary'\n",
    "                                                              )"
   ]
  },
  {
   "cell_type": "code",
   "execution_count": null,
   "metadata": {
    "colab": {
     "base_uri": "https://localhost:8080/",
     "height": 51
    },
    "colab_type": "code",
    "executionInfo": {
     "elapsed": 10206,
     "status": "ok",
     "timestamp": 1570441345672,
     "user": {
      "displayName": "Saurabh Thakur",
      "photoUrl": "",
      "userId": "08941237863167904509"
     },
     "user_tz": -330
    },
    "id": "XCQGu_XkcW-q",
    "outputId": "8b08c709-0512-46dc-f409-985f4edcc9c9"
   },
   "outputs": [],
   "source": [
    "scores = model.evaluate_generator(test_data_gen)\n",
    "print(\"\\n%s: %.2f%%\" % (model.metrics_names[1], scores[1]*100))"
   ]
  },
  {
   "cell_type": "code",
   "execution_count": null,
   "metadata": {
    "colab": {
     "base_uri": "https://localhost:8080/",
     "height": 214
    },
    "colab_type": "code",
    "executionInfo": {
     "elapsed": 10243,
     "status": "error",
     "timestamp": 1570443094503,
     "user": {
      "displayName": "Saurabh Thakur",
      "photoUrl": "",
      "userId": "08941237863167904509"
     },
     "user_tz": -330
    },
    "id": "98b0mPv-cRn0",
    "outputId": "f7aa4477-38f3-4df0-9b59-c6086cdad041"
   },
   "outputs": [],
   "source": [
    "import numpy\n",
    "test_steps_per_epoch = numpy.math.ceil(test_data_gen.samples / test_data_gen.batch_size)\n",
    "\n",
    "predictions = model.predict_generator(test_data_gen, steps=test_steps_per_epoch)\n",
    "# Get most likely class\n",
    "predicted_classes = numpy.argmax(predictions, axis=1)\n",
    "\n",
    "##Get ground-truth classes and class-labels\n",
    "\n",
    "true_classes = test_data_gen.classes\n",
    "class_labels = list(test_data_gen.class_indices.keys())   \n",
    "\n",
    "\n",
    "##Use scikit-learn to get statistics\n",
    "import sklearn.metrics as metrics\n",
    "\n",
    "report = metrics.confusion_matrix(true_classes, predicted_classes, target_names=class_labels)\n",
    "print(report) "
   ]
  },
  {
   "cell_type": "code",
   "execution_count": null,
   "metadata": {
    "colab": {},
    "colab_type": "code",
    "id": "sWuwdjYjvL_p"
   },
   "outputs": [],
   "source": [
    "from sklearn.metrics import confusion_matrix\n",
    "report = confusion_matrix(true_classes, predicted_classes)\n"
   ]
  },
  {
   "cell_type": "code",
   "execution_count": null,
   "metadata": {
    "colab": {
     "base_uri": "https://localhost:8080/",
     "height": 51
    },
    "colab_type": "code",
    "executionInfo": {
     "elapsed": 1182,
     "status": "ok",
     "timestamp": 1570443721914,
     "user": {
      "displayName": "Saurabh Thakur",
      "photoUrl": "",
      "userId": "08941237863167904509"
     },
     "user_tz": -330
    },
    "id": "h7J0hN_-tDEh",
    "outputId": "fc614b37-08cd-4733-c75e-11658c72967d"
   },
   "outputs": [],
   "source": [
    "print(report)"
   ]
  }
 ],
 "metadata": {
  "accelerator": "GPU",
  "colab": {
   "name": "vGG1.ipynb",
   "provenance": []
  },
  "kernelspec": {
   "display_name": "Python 3",
   "language": "python",
   "name": "python3"
  },
  "language_info": {
   "codemirror_mode": {
    "name": "ipython",
    "version": 3
   },
   "file_extension": ".py",
   "mimetype": "text/x-python",
   "name": "python",
   "nbconvert_exporter": "python",
   "pygments_lexer": "ipython3",
   "version": "3.7.7"
  }
 },
 "nbformat": 4,
 "nbformat_minor": 1
}
