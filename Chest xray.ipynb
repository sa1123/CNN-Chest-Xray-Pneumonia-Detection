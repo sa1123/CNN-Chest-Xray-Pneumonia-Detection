{
 "cells": [
  {
   "cell_type": "code",
   "execution_count": 1,
   "metadata": {
    "colab": {
     "base_uri": "https://localhost:8080/",
     "height": 34
    },
    "colab_type": "code",
    "executionInfo": {
     "elapsed": 1696,
     "status": "ok",
     "timestamp": 1570439069651,
     "user": {
      "displayName": "Saurabh Thakur",
      "photoUrl": "",
      "userId": "08941237863167904509"
     },
     "user_tz": -330
    },
    "id": "EayASWtC79wR",
    "outputId": "d842d5e4-fec3-4ff1-a562-6334674ea0a6"
   },
   "outputs": [
    {
     "name": "stdout",
     "output_type": "stream",
     "text": [
      "Drive already mounted at /content/drive; to attempt to forcibly remount, call drive.mount(\"/content/drive\", force_remount=True).\n"
     ]
    }
   ],
   "source": [
    "from google.colab import drive\n",
    "drive.mount('/content/drive')"
   ]
  },
  {
   "cell_type": "code",
   "execution_count": 2,
   "metadata": {
    "colab": {
     "base_uri": "https://localhost:8080/",
     "height": 34
    },
    "colab_type": "code",
    "executionInfo": {
     "elapsed": 3579,
     "status": "ok",
     "timestamp": 1570439071621,
     "user": {
      "displayName": "Saurabh Thakur",
      "photoUrl": "",
      "userId": "08941237863167904509"
     },
     "user_tz": -330
    },
    "id": "QRZhq9F_8Coq",
    "outputId": "b0e58bce-eb79-4c64-e178-d80c89f7f48c"
   },
   "outputs": [
    {
     "name": "stderr",
     "output_type": "stream",
     "text": [
      "Using TensorFlow backend.\n"
     ]
    }
   ],
   "source": [
    "import keras\n",
    "import pandas as pd\n",
    "import numpy as np\n",
    "import cv2\n",
    "import os\n",
    "from random import shuffle\n",
    "from tqdm import tqdm\n",
    "import scipy\n",
    "import skimage\n",
    "from skimage.transform import resize"
   ]
  },
  {
   "cell_type": "code",
   "execution_count": 0,
   "metadata": {
    "colab": {},
    "colab_type": "code",
    "id": "A_2WmBfH8C8m"
   },
   "outputs": [],
   "source": [
    "train_dir = \"/content/drive/My Drive/Colab Notebooks/chest_xray/train/\"\n",
    "test_dir = \"/content/drive/My Drive/Colab Notebooks/chest_xray/test/\"\n",
    "val_dir = \"/content/drive/My Drive/Colab Notebooks/chest_xray/val/\""
   ]
  },
  {
   "cell_type": "code",
   "execution_count": 0,
   "metadata": {
    "colab": {},
    "colab_type": "code",
    "id": "7PUlb7c_8DRn"
   },
   "outputs": [],
   "source": [
    "from keras import models\n",
    "from keras import layers"
   ]
  },
  {
   "cell_type": "code",
   "execution_count": 5,
   "metadata": {
    "colab": {
     "base_uri": "https://localhost:8080/",
     "height": 241
    },
    "colab_type": "code",
    "executionInfo": {
     "elapsed": 4828,
     "status": "ok",
     "timestamp": 1570439072963,
     "user": {
      "displayName": "Saurabh Thakur",
      "photoUrl": "",
      "userId": "08941237863167904509"
     },
     "user_tz": -330
    },
    "id": "4Jrkoixi8DpT",
    "outputId": "62307e90-66fd-4474-b0c4-e68ccc3727eb"
   },
   "outputs": [
    {
     "name": "stdout",
     "output_type": "stream",
     "text": [
      "WARNING:tensorflow:From /usr/local/lib/python3.6/dist-packages/keras/backend/tensorflow_backend.py:66: The name tf.get_default_graph is deprecated. Please use tf.compat.v1.get_default_graph instead.\n",
      "\n",
      "WARNING:tensorflow:From /usr/local/lib/python3.6/dist-packages/keras/backend/tensorflow_backend.py:541: The name tf.placeholder is deprecated. Please use tf.compat.v1.placeholder instead.\n",
      "\n",
      "WARNING:tensorflow:From /usr/local/lib/python3.6/dist-packages/keras/backend/tensorflow_backend.py:4432: The name tf.random_uniform is deprecated. Please use tf.random.uniform instead.\n",
      "\n",
      "WARNING:tensorflow:From /usr/local/lib/python3.6/dist-packages/keras/backend/tensorflow_backend.py:4267: The name tf.nn.max_pool is deprecated. Please use tf.nn.max_pool2d instead.\n",
      "\n",
      "WARNING:tensorflow:From /usr/local/lib/python3.6/dist-packages/keras/backend/tensorflow_backend.py:190: The name tf.get_default_session is deprecated. Please use tf.compat.v1.get_default_session instead.\n",
      "\n",
      "WARNING:tensorflow:From /usr/local/lib/python3.6/dist-packages/keras/backend/tensorflow_backend.py:197: The name tf.ConfigProto is deprecated. Please use tf.compat.v1.ConfigProto instead.\n",
      "\n"
     ]
    }
   ],
   "source": [
    "from keras.applications import VGG16\n",
    "conv_base = VGG16(weights='imagenet',\n",
    "                 include_top = False,\n",
    "                 input_shape = (224, 224, 3))"
   ]
  },
  {
   "cell_type": "code",
   "execution_count": 0,
   "metadata": {
    "colab": {},
    "colab_type": "code",
    "id": "KmuscR5h8EAI"
   },
   "outputs": [],
   "source": [
    "import tensorflow as tf\n",
    "from tensorflow.keras.models import Sequential\n",
    "from tensorflow.keras.layers import Dense, Conv2D, Flatten, Dropout, MaxPooling2D\n",
    "from tensorflow.keras.preprocessing.image import ImageDataGenerator"
   ]
  },
  {
   "cell_type": "code",
   "execution_count": 7,
   "metadata": {
    "colab": {
     "base_uri": "https://localhost:8080/",
     "height": 88
    },
    "colab_type": "code",
    "executionInfo": {
     "elapsed": 4797,
     "status": "ok",
     "timestamp": 1570439072968,
     "user": {
      "displayName": "Saurabh Thakur",
      "photoUrl": "",
      "userId": "08941237863167904509"
     },
     "user_tz": -330
    },
    "id": "GN7Xp1ir8YdJ",
    "outputId": "9245dbf5-11ef-4069-a0d9-58bf28616688"
   },
   "outputs": [
    {
     "name": "stdout",
     "output_type": "stream",
     "text": [
      "WARNING:tensorflow:From /usr/local/lib/python3.6/dist-packages/keras/backend/tensorflow_backend.py:3733: calling dropout (from tensorflow.python.ops.nn_ops) with keep_prob is deprecated and will be removed in a future version.\n",
      "Instructions for updating:\n",
      "Please use `rate` instead of `keep_prob`. Rate should be set to `rate = 1 - keep_prob`.\n"
     ]
    }
   ],
   "source": [
    "model = models.Sequential()\n",
    "model.add(conv_base)\n",
    "model.add(layers.Flatten())\n",
    "model.add(layers.Dense(256, activation = 'relu'))\n",
    "model.add(layers.Dropout(rate=1- 0.7))\n",
    "model.add(layers.Dense(64, activation = 'relu'))\n",
    "model.add(layers.Dropout(rate = 1-0.7))\n",
    "model.add(layers.Dense(1, activation = 'sigmoid'))"
   ]
  },
  {
   "cell_type": "markdown",
   "metadata": {
    "colab_type": "text",
    "id": "j1iLSDs68aVr"
   },
   "source": []
  },
  {
   "cell_type": "code",
   "execution_count": 8,
   "metadata": {
    "colab": {
     "base_uri": "https://localhost:8080/",
     "height": 391
    },
    "colab_type": "code",
    "executionInfo": {
     "elapsed": 4784,
     "status": "ok",
     "timestamp": 1570439072970,
     "user": {
      "displayName": "Saurabh Thakur",
      "photoUrl": "",
      "userId": "08941237863167904509"
     },
     "user_tz": -330
    },
    "id": "KPGm1RqC8ypw",
    "outputId": "53e10b30-8551-4ed7-c94e-ef9e297bde4d"
   },
   "outputs": [
    {
     "name": "stdout",
     "output_type": "stream",
     "text": [
      "Model: \"sequential_1\"\n",
      "_________________________________________________________________\n",
      "Layer (type)                 Output Shape              Param #   \n",
      "=================================================================\n",
      "vgg16 (Model)                (None, 7, 7, 512)         14714688  \n",
      "_________________________________________________________________\n",
      "flatten_1 (Flatten)          (None, 25088)             0         \n",
      "_________________________________________________________________\n",
      "dense_1 (Dense)              (None, 256)               6422784   \n",
      "_________________________________________________________________\n",
      "dropout_1 (Dropout)          (None, 256)               0         \n",
      "_________________________________________________________________\n",
      "dense_2 (Dense)              (None, 64)                16448     \n",
      "_________________________________________________________________\n",
      "dropout_2 (Dropout)          (None, 64)                0         \n",
      "_________________________________________________________________\n",
      "dense_3 (Dense)              (None, 1)                 65        \n",
      "=================================================================\n",
      "Total params: 21,153,985\n",
      "Trainable params: 21,153,985\n",
      "Non-trainable params: 0\n",
      "_________________________________________________________________\n"
     ]
    }
   ],
   "source": [
    "model.summary()"
   ]
  },
  {
   "cell_type": "code",
   "execution_count": 0,
   "metadata": {
    "colab": {},
    "colab_type": "code",
    "id": "R9-eDinAJ6fk"
   },
   "outputs": [],
   "source": [
    "conv_base.trainable = False"
   ]
  },
  {
   "cell_type": "code",
   "execution_count": 10,
   "metadata": {
    "colab": {
     "base_uri": "https://localhost:8080/",
     "height": 391
    },
    "colab_type": "code",
    "executionInfo": {
     "elapsed": 4741,
     "status": "ok",
     "timestamp": 1570439072975,
     "user": {
      "displayName": "Saurabh Thakur",
      "photoUrl": "",
      "userId": "08941237863167904509"
     },
     "user_tz": -330
    },
    "id": "HX0AYjte85Lt",
    "outputId": "fdb95c38-60de-4fc7-f9ad-aafd2a589d96"
   },
   "outputs": [
    {
     "name": "stdout",
     "output_type": "stream",
     "text": [
      "Model: \"sequential_1\"\n",
      "_________________________________________________________________\n",
      "Layer (type)                 Output Shape              Param #   \n",
      "=================================================================\n",
      "vgg16 (Model)                (None, 7, 7, 512)         14714688  \n",
      "_________________________________________________________________\n",
      "flatten_1 (Flatten)          (None, 25088)             0         \n",
      "_________________________________________________________________\n",
      "dense_1 (Dense)              (None, 256)               6422784   \n",
      "_________________________________________________________________\n",
      "dropout_1 (Dropout)          (None, 256)               0         \n",
      "_________________________________________________________________\n",
      "dense_2 (Dense)              (None, 64)                16448     \n",
      "_________________________________________________________________\n",
      "dropout_2 (Dropout)          (None, 64)                0         \n",
      "_________________________________________________________________\n",
      "dense_3 (Dense)              (None, 1)                 65        \n",
      "=================================================================\n",
      "Total params: 21,153,985\n",
      "Trainable params: 6,439,297\n",
      "Non-trainable params: 14,714,688\n",
      "_________________________________________________________________\n"
     ]
    }
   ],
   "source": [
    "model.summary()"
   ]
  },
  {
   "cell_type": "code",
   "execution_count": 11,
   "metadata": {
    "colab": {
     "base_uri": "https://localhost:8080/",
     "height": 122
    },
    "colab_type": "code",
    "executionInfo": {
     "elapsed": 4726,
     "status": "ok",
     "timestamp": 1570439072977,
     "user": {
      "displayName": "Saurabh Thakur",
      "photoUrl": "",
      "userId": "08941237863167904509"
     },
     "user_tz": -330
    },
    "id": "MtzspNkYKIXI",
    "outputId": "cfd6cfa8-0ebe-47a6-fa93-e10ae402da0c"
   },
   "outputs": [
    {
     "name": "stdout",
     "output_type": "stream",
     "text": [
      "WARNING:tensorflow:From /usr/local/lib/python3.6/dist-packages/keras/optimizers.py:793: The name tf.train.Optimizer is deprecated. Please use tf.compat.v1.train.Optimizer instead.\n",
      "\n",
      "WARNING:tensorflow:From /usr/local/lib/python3.6/dist-packages/tensorflow/python/ops/nn_impl.py:180: add_dispatch_support.<locals>.wrapper (from tensorflow.python.ops.array_ops) is deprecated and will be removed in a future version.\n",
      "Instructions for updating:\n",
      "Use tf.where in 2.0, which has the same broadcast rule as np.where\n"
     ]
    }
   ],
   "source": [
    "from keras import optimizers\n",
    "model.compile(optimizer='adam',\n",
    "              loss='binary_crossentropy',\n",
    "              metrics=['accuracy'])"
   ]
  },
  {
   "cell_type": "code",
   "execution_count": 0,
   "metadata": {
    "colab": {},
    "colab_type": "code",
    "id": "fnbzBKBYKJI7"
   },
   "outputs": [],
   "source": [
    "batch_size = 50\n",
    "IMG_SHAPE = 224"
   ]
  },
  {
   "cell_type": "code",
   "execution_count": 13,
   "metadata": {
    "colab": {
     "base_uri": "https://localhost:8080/",
     "height": 34
    },
    "colab_type": "code",
    "executionInfo": {
     "elapsed": 4695,
     "status": "ok",
     "timestamp": 1570439072980,
     "user": {
      "displayName": "Saurabh Thakur",
      "photoUrl": "",
      "userId": "08941237863167904509"
     },
     "user_tz": -330
    },
    "id": "PxAVpljYKOGo",
    "outputId": "3660ab92-56a4-4ca2-8948-05da9178666a"
   },
   "outputs": [
    {
     "name": "stdout",
     "output_type": "stream",
     "text": [
      "Found 5216 images belonging to 2 classes.\n"
     ]
    }
   ],
   "source": [
    "image_gen = ImageDataGenerator(rescale = 1./255, \n",
    "                               horizontal_flip = True,\n",
    "                              rotation_range=5,\n",
    "                              width_shift_range= 0.10,\n",
    "                              height_shift_range= 0.05,\n",
    "                              zoom_range = 0.15,\n",
    "                              shear_range = 0.1,\n",
    "                              vertical_flip = False,\n",
    "                              fill_mode = 'reflect')\n",
    "\n",
    "train_data_gen = image_gen.flow_from_directory(batch_size = batch_size,\n",
    "                                               directory= train_dir,\n",
    "                                               shuffle=True,\n",
    "                                                target_size=(IMG_SHAPE,IMG_SHAPE),\n",
    "                                                class_mode='binary'\n",
    "                                                              )"
   ]
  },
  {
   "cell_type": "code",
   "execution_count": 14,
   "metadata": {
    "colab": {
     "base_uri": "https://localhost:8080/",
     "height": 34
    },
    "colab_type": "code",
    "executionInfo": {
     "elapsed": 5021,
     "status": "ok",
     "timestamp": 1570439073332,
     "user": {
      "displayName": "Saurabh Thakur",
      "photoUrl": "",
      "userId": "08941237863167904509"
     },
     "user_tz": -330
    },
    "id": "THbXW1A5KVmt",
    "outputId": "abd9d4b2-5a2e-41fb-e476-afa2206ab57c"
   },
   "outputs": [
    {
     "name": "stdout",
     "output_type": "stream",
     "text": [
      "Found 16 images belonging to 2 classes.\n"
     ]
    }
   ],
   "source": [
    "image_val_gen = ImageDataGenerator(rescale=1./255)\n",
    "\n",
    "val_data_gen = image_gen.flow_from_directory(batch_size = batch_size,\n",
    "                                                directory = val_dir,\n",
    "                                                target_size=(IMG_SHAPE,IMG_SHAPE),\n",
    "                                                class_mode='binary'\n",
    "                                                              )"
   ]
  },
  {
   "cell_type": "code",
   "execution_count": 20,
   "metadata": {
    "colab": {
     "base_uri": "https://localhost:8080/",
     "height": 527
    },
    "colab_type": "code",
    "executionInfo": {
     "elapsed": 1187203,
     "status": "ok",
     "timestamp": 1570441252014,
     "user": {
      "displayName": "Saurabh Thakur",
      "photoUrl": "",
      "userId": "08941237863167904509"
     },
     "user_tz": -330
    },
    "id": "Uy4gN8uhKb41",
    "outputId": "2a7d85a1-09c3-438b-fe2f-fd0130f5d0db"
   },
   "outputs": [
    {
     "name": "stdout",
     "output_type": "stream",
     "text": [
      "Epoch 1/15\n",
      "50/50 [==============================] - 90s 2s/step - loss: 0.1264 - acc: 0.9580 - val_loss: 0.6024 - val_acc: 0.6766\n",
      "Epoch 2/15\n",
      "50/50 [==============================] - 73s 1s/step - loss: 0.1218 - acc: 0.9539 - val_loss: 0.7011 - val_acc: 0.7250\n",
      "Epoch 3/15\n",
      "50/50 [==============================] - 86s 2s/step - loss: 0.1236 - acc: 0.9536 - val_loss: 0.5812 - val_acc: 0.7453\n",
      "Epoch 4/15\n",
      "50/50 [==============================] - 76s 2s/step - loss: 0.1105 - acc: 0.9608 - val_loss: 0.7984 - val_acc: 0.7125\n",
      "Epoch 5/15\n",
      "50/50 [==============================] - 81s 2s/step - loss: 0.1243 - acc: 0.9468 - val_loss: 1.0426 - val_acc: 0.6609\n",
      "Epoch 6/15\n",
      "50/50 [==============================] - 77s 2s/step - loss: 0.1261 - acc: 0.9536 - val_loss: 0.9826 - val_acc: 0.6453\n",
      "Epoch 7/15\n",
      "50/50 [==============================] - 77s 2s/step - loss: 0.0951 - acc: 0.9664 - val_loss: 0.5912 - val_acc: 0.7719\n",
      "Epoch 8/15\n",
      "50/50 [==============================] - 79s 2s/step - loss: 0.1145 - acc: 0.9516 - val_loss: 0.6380 - val_acc: 0.7359\n",
      "Epoch 9/15\n",
      "50/50 [==============================] - 78s 2s/step - loss: 0.0978 - acc: 0.9640 - val_loss: 0.3380 - val_acc: 0.8641\n",
      "Epoch 10/15\n",
      "50/50 [==============================] - 78s 2s/step - loss: 0.1059 - acc: 0.9644 - val_loss: 0.3281 - val_acc: 0.8625\n",
      "Epoch 11/15\n",
      "50/50 [==============================] - 78s 2s/step - loss: 0.0993 - acc: 0.9620 - val_loss: 0.5689 - val_acc: 0.7516\n",
      "Epoch 12/15\n",
      "50/50 [==============================] - 79s 2s/step - loss: 0.0996 - acc: 0.9591 - val_loss: 0.4260 - val_acc: 0.8344\n",
      "Epoch 13/15\n",
      "50/50 [==============================] - 77s 2s/step - loss: 0.1099 - acc: 0.9584 - val_loss: 0.5947 - val_acc: 0.7453\n",
      "Epoch 14/15\n",
      "50/50 [==============================] - 78s 2s/step - loss: 0.1055 - acc: 0.9596 - val_loss: 0.7441 - val_acc: 0.7172\n",
      "Epoch 15/15\n",
      "50/50 [==============================] - 78s 2s/step - loss: 0.0959 - acc: 0.9680 - val_loss: 0.2176 - val_acc: 0.9016\n"
     ]
    }
   ],
   "source": [
    "history = model.fit_generator(\n",
    "                               train_data_gen,\n",
    "                                steps_per_epoch= 5\n",
    "                                epochs = 15,\n",
    "                                 validation_data = val_data_gen,\n",
    "                                 validation_steps =40)"
   ]
  },
  {
   "cell_type": "code",
   "execution_count": 22,
   "metadata": {
    "colab": {
     "base_uri": "https://localhost:8080/",
     "height": 499
    },
    "colab_type": "code",
    "executionInfo": {
     "elapsed": 1920,
     "status": "ok",
     "timestamp": 1570441300332,
     "user": {
      "displayName": "Saurabh Thakur",
      "photoUrl": "",
      "userId": "08941237863167904509"
     },
     "user_tz": -330
    },
    "id": "hrozhFLmWESU",
    "outputId": "c652478c-1c28-41c7-fdf4-7afab395f739"
   },
   "outputs": [
    {
     "data": {
      "image/png": "[encoded data removed]",
      "text/plain": [
       "<Figure size 576x576 with 2 Axes>"
      ]
     },
     "metadata": {
      "tags": []
     },
     "output_type": "display_data"
    }
   ],
   "source": [
    "import matplotlib.pyplot as plt\n",
    "\n",
    "epochs =15\n",
    "acc = history.history['acc']\n",
    "loss = history.history['loss']\n",
    "\n",
    "val_acc = history.history['val_acc']\n",
    "val_loss = history.history['val_loss']\n",
    "\n",
    "epochs_range = range(epochs)\n",
    "\n",
    "plt.figure(figsize=(8, 8))\n",
    "plt.subplot(1, 2, 1)\n",
    "plt.plot(epochs_range, acc, label='Training Accuracy')\n",
    "plt.plot(epochs_range, val_acc, label='Validation Accuracy')\n",
    "plt.legend(loc='lower right')\n",
    "plt.title('Training and Validation Accuracy')\n",
    "\n",
    "plt.subplot(1, 2, 2)\n",
    "plt.plot(epochs_range, loss, label='Training Loss')\n",
    "plt.plot(epochs_range, val_loss, label='Validation Loss')\n",
    "plt.legend(loc='upper right')\n",
    "plt.title('Training and Validation Loss')\n",
    "plt.show()"
   ]
  },
  {
   "cell_type": "code",
   "execution_count": 24,
   "metadata": {
    "colab": {
     "base_uri": "https://localhost:8080/",
     "height": 34
    },
    "colab_type": "code",
    "executionInfo": {
     "elapsed": 1021,
     "status": "ok",
     "timestamp": 1570441332881,
     "user": {
      "displayName": "Saurabh Thakur",
      "photoUrl": "",
      "userId": "08941237863167904509"
     },
     "user_tz": -330
    },
    "id": "Kik9OzTzXYRU",
    "outputId": "a19a9a31-7c97-4883-c69c-21d6bd5614e3"
   },
   "outputs": [
    {
     "name": "stdout",
     "output_type": "stream",
     "text": [
      "Found 624 images belonging to 2 classes.\n"
     ]
    }
   ],
   "source": [
    "image_test_gen = ImageDataGenerator(rescale= 1./255)\n",
    "\n",
    "test_data_gen = image_val_gen.flow_from_directory(batch_size = batch_size,\n",
    "                                                directory = test_dir,\n",
    "                                                target_size=(IMG_SHAPE,IMG_SHAPE),\n",
    "                                                class_mode='binary'\n",
    "                                                              )"
   ]
  },
  {
   "cell_type": "code",
   "execution_count": 25,
   "metadata": {
    "colab": {
     "base_uri": "https://localhost:8080/",
     "height": 51
    },
    "colab_type": "code",
    "executionInfo": {
     "elapsed": 10206,
     "status": "ok",
     "timestamp": 1570441345672,
     "user": {
      "displayName": "Saurabh Thakur",
      "photoUrl": "",
      "userId": "08941237863167904509"
     },
     "user_tz": -330
    },
    "id": "XCQGu_XkcW-q",
    "outputId": "8b08c709-0512-46dc-f409-985f4edcc9c9"
   },
   "outputs": [
    {
     "name": "stdout",
     "output_type": "stream",
     "text": [
      "\n",
      "acc: 90.54%\n"
     ]
    }
   ],
   "source": [
    "scores = model.evaluate_generator(test_data_gen)\n",
    "print(\"\\n%s: %.2f%%\" % (model.metrics_names[1], scores[1]*100))"
   ]
  },
  {
   "cell_type": "code",
   "execution_count": 27,
   "metadata": {
    "colab": {
     "base_uri": "https://localhost:8080/",
     "height": 214
    },
    "colab_type": "code",
    "executionInfo": {
     "elapsed": 10243,
     "status": "error",
     "timestamp": 1570443094503,
     "user": {
      "displayName": "Saurabh Thakur",
      "photoUrl": "",
      "userId": "08941237863167904509"
     },
     "user_tz": -330
    },
    "id": "98b0mPv-cRn0",
    "outputId": "f7aa4477-38f3-4df0-9b59-c6086cdad041"
   },
   "outputs": [
    {
     "ename": "TypeError",
     "evalue": "ignored",
     "output_type": "error",
     "traceback": [
      "\u001b[0;31m---------------------------------------------------------------------------\u001b[0m",
      "\u001b[0;31mTypeError\u001b[0m                                 Traceback (most recent call last)",
      "\u001b[0;32m<ipython-input-27-7f7e78ebce1c>\u001b[0m in \u001b[0;36m<module>\u001b[0;34m()\u001b[0m\n\u001b[1;32m     19\u001b[0m \u001b[0;32mimport\u001b[0m \u001b[0msklearn\u001b[0m\u001b[0;34m.\u001b[0m\u001b[0mmetrics\u001b[0m \u001b[0;32mas\u001b[0m \u001b[0mmetrics\u001b[0m\u001b[0;34m\u001b[0m\u001b[0;34m\u001b[0m\u001b[0m\n\u001b[1;32m     20\u001b[0m \u001b[0;34m\u001b[0m\u001b[0m\n\u001b[0;32m---> 21\u001b[0;31m \u001b[0mreport\u001b[0m \u001b[0;34m=\u001b[0m \u001b[0mmetrics\u001b[0m\u001b[0;34m.\u001b[0m\u001b[0mconfusion_matrix\u001b[0m\u001b[0;34m(\u001b[0m\u001b[0mtrue_classes\u001b[0m\u001b[0;34m,\u001b[0m \u001b[0mpredicted_classes\u001b[0m\u001b[0;34m,\u001b[0m \u001b[0mtarget_names\u001b[0m\u001b[0;34m=\u001b[0m\u001b[0mclass_labels\u001b[0m\u001b[0;34m)\u001b[0m\u001b[0;34m\u001b[0m\u001b[0;34m\u001b[0m\u001b[0m\n\u001b[0m\u001b[1;32m     22\u001b[0m \u001b[0mprint\u001b[0m\u001b[0;34m(\u001b[0m\u001b[0mreport\u001b[0m\u001b[0;34m)\u001b[0m\u001b[0;34m\u001b[0m\u001b[0;34m\u001b[0m\u001b[0m\n",
      "\u001b[0;31mTypeError\u001b[0m: confusion_matrix() got an unexpected keyword argument 'target_names'"
     ]
    }
   ],
   "source": [
    "import numpy\n",
    "test_steps_per_epoch = numpy.math.ceil(test_data_gen.samples / test_data_gen.batch_size)\n",
    "\n",
    "predictions = model.predict_generator(test_data_gen, steps=test_steps_per_epoch)\n",
    "# Get most likely class\n",
    "predicted_classes = numpy.argmax(predictions, axis=1)\n",
    "\n",
    "\n",
    "\n",
    "##Get ground-truth classes and class-labels\n",
    "\n",
    "\n",
    "\n",
    "true_classes = test_data_gen.classes\n",
    "class_labels = list(test_data_gen.class_indices.keys())   \n",
    "\n",
    "\n",
    "##Use scikit-learn to get statistics\n",
    "import sklearn.metrics as metrics\n",
    "\n",
    "report = metrics.confusion_matrix(true_classes, predicted_classes, target_names=class_labels)\n",
    "print(report) "
   ]
  },
  {
   "cell_type": "code",
   "execution_count": 0,
   "metadata": {
    "colab": {},
    "colab_type": "code",
    "id": "sWuwdjYjvL_p"
   },
   "outputs": [],
   "source": [
    "from sklearn.metrics import confusion_matrix\n",
    "report = confusion_matrix(true_classes, predicted_classes)\n"
   ]
  },
  {
   "cell_type": "code",
   "execution_count": 29,
   "metadata": {
    "colab": {
     "base_uri": "https://localhost:8080/",
     "height": 51
    },
    "colab_type": "code",
    "executionInfo": {
     "elapsed": 1182,
     "status": "ok",
     "timestamp": 1570443721914,
     "user": {
      "displayName": "Saurabh Thakur",
      "photoUrl": "",
      "userId": "08941237863167904509"
     },
     "user_tz": -330
    },
    "id": "h7J0hN_-tDEh",
    "outputId": "fc614b37-08cd-4733-c75e-11658c72967d"
   },
   "outputs": [
    {
     "name": "stdout",
     "output_type": "stream",
     "text": [
      "[[234   0]\n",
      " [390   0]]\n"
     ]
    }
   ],
   "source": [
    "print(report)"
   ]
  }
 ],
 "metadata": {
  "accelerator": "GPU",
  "colab": {
   "name": "vGG1.ipynb",
   "provenance": []
  },
  "kernelspec": {
   "display_name": "Python 3",
   "language": "python",
   "name": "python3"
  },
  "language_info": {
   "codemirror_mode": {
    "name": "ipython",
    "version": 3
   },
   "file_extension": ".py",
   "mimetype": "text/x-python",
   "name": "python",
   "nbconvert_exporter": "python",
   "pygments_lexer": "ipython3",
   "version": "3.7.7"
  }
 },
 "nbformat": 4,
 "nbformat_minor": 1
}
